{
 "cells": [
  {
   "cell_type": "code",
   "execution_count": 1,
   "metadata": {},
   "outputs": [],
   "source": [
    "from baza_mip import mip_session\n",
    "from baza_mip.models import Procesy_Przydzielone\n",
    "from sqlalchemy import create_engine, text\n",
    "from Plan_Pracy.plan_pracy import kj_paczki\n",
    "\n",
    "import pandas as pd\n",
    "\n",
    "\n",
    "gen_engine = create_engine(\"sqlite:///Z:/450. PLANISTA - ZAOPATRZENIE/GENERATORY.db\", echo=False)\n",
    "\n"
   ]
  },
  {
   "cell_type": "code",
   "execution_count": 2,
   "metadata": {},
   "outputs": [],
   "source": [
    "def dodaj_KJ(zamowione_paczki):\n",
    "    czas_calkowity = 0\n",
    "    for row in zamowione_paczki:\n",
    "        # print(row[0], row[1], row[2], row[3], row[4])\n",
    "        \n",
    "        print(f\"KONTROLA JAKOSCI: {row[1]} - {row[2]}| NR_DOS {row[3]}\", \",\", kj_paczki(row[2])*10)\n",
    "        czas_calkowity += kj_paczki(row[2])*10\n",
    "    \n",
    "    print(\"Całkowity czas KJ:\",czas_calkowity)"
   ]
  },
  {
   "cell_type": "code",
   "execution_count": 3,
   "metadata": {},
   "outputs": [],
   "source": [
    "def dodaj_OWATY_ROZKROJ(owaty):\n",
    "    # czas_calkowity = 0\n",
    "    for row in owaty:\n",
    "        # print(row[0], row[1], row[2], row[3], row[4])\n",
    "        \n",
    "        print(f\"WYCINANIE OWAT: NR PARTII: {row[3]} NR KOMPL {row[0]}| {row[1]} - {row[2]}szt\")\n",
    "        # czas_calkowity += kj_paczki(row[2])*10\n",
    "    \n",
    "    # print(\"Całkowity czas KJ:\",czas_calkowity)"
   ]
  },
  {
   "cell_type": "code",
   "execution_count": 5,
   "metadata": {},
   "outputs": [],
   "source": [
    "#dostawy\n",
    "with gen_engine.begin() as conn:\n",
    "    suma_paczek = conn.execute(text(\"select SUM(ILE_ZAMOWIONE) from ZAM_PIANKI where nr_SAMOCHODU == 'PIANPOL 14_24*'\")).fetchall()[0][0]\n",
    "    zamowione_paczki = conn.execute(text(\"select NR_KOMPLETACJI, OPIS, ILE_ZAMOWIONE, ZAM1, ZAM2 from ZAM_PIANKI where nr_SAMOCHODU == 'PIANPOL 14_24*'\")).fetchall()\n",
    "    lenox = conn.execute(text(\"select NR_KOMPLETACJI, OPIS, ILE_ZAMOWIONE, ZAM1, ZAM2 from ZAM_PIANKI where OPIS LIKE 'LENO%' and NR_KOMPLETACJI == '1_24'\")).fetchall()"
   ]
  },
  {
   "cell_type": "code",
   "execution_count": 35,
   "metadata": {},
   "outputs": [],
   "source": [
    "#owaty\n",
    "with gen_engine.begin() as conn:\n",
    "    owaty = conn.execute(text(\"select NR_KOMPLETACJI, OPIS, ILE_ZAMOWIONE, NR_PARTII from ZAM_PIANKI where NR_KOMPLETACJI == '4_24' AND MODEL == 'STONE'\")).fetchall()"
   ]
  },
  {
   "cell_type": "code",
   "execution_count": 7,
   "metadata": {},
   "outputs": [
    {
     "name": "stdout",
     "output_type": "stream",
     "text": [
      "KONTROLA JAKOSCI: LENOX [1o] - 70| NR_DOS 24/0583 , 60\n",
      "KONTROLA JAKOSCI: LENOX [1H] - 120| NR_DOS 24/0583 , 80\n",
      "Całkowity czas KJ: 140\n"
     ]
    }
   ],
   "source": [
    "dodaj_KJ(lenox)"
   ]
  },
  {
   "cell_type": "code",
   "execution_count": 8,
   "metadata": {},
   "outputs": [],
   "source": [
    "##eliza 5\n",
    "##adamr 4\n",
    "##piotrl 8\n",
    "\n",
    "# mip_session.add(Procesy_Przydzielone(4, 5, 2, \"KONTROLA JAKOSCI: LENOX [1o] - 70| NR_DOS 24/0583\", \"2024-07-11\", 60))\n",
    "# mip_session.add(Procesy_Przydzielone(4, 5, 2, \"KONTROLA JAKOSCI: LENOX [1H] - 120| NR_DOS 24/0583\", \"2024-07-11\", 80))\n",
    "\n",
    "\n",
    "\n",
    "# mip_session.commit()"
   ]
  },
  {
   "cell_type": "code",
   "execution_count": 9,
   "metadata": {},
   "outputs": [
    {
     "data": {
      "text/plain": [
       "[(1, 4, 5, 2, 'KONTROLA JAKOSCI: HORIZON 1z - 150| NR_DOS 24/0559', '2024-07-09', '2024-07-09', 1, 3, 1, None, 100),\n",
       " (2, 4, 5, 2, 'KONTROLA JAKOSCI: HORIZON 1,5z - 150| NR_DOS 24/0559', '2024-07-09', '2024-07-09', 1, 0, 1, None, 100),\n",
       " (3, 4, 5, 2, 'KONTROLA JAKOSCI: HORIZON 2,5z - 25| NR_DOS 24/0559', '2024-07-09', '2024-07-09', 1, 0, 1, None, 30),\n",
       " (4, 4, 5, 2, 'KONTROLA JAKOSCI: HORIZON LHz][ - 30| NR_DOS 24/0559', '2024-07-09', '2024-07-09', 1, 0, 1, None, 30),\n",
       " (5, 4, 5, 2, 'KONTROLA JAKOSCI: HORIZON L2Hz][ - 50| NR_DOS 24/0559', '2024-07-09', '2024-07-09', 1, 0, 1, None, 50),\n",
       " (6, 4, 5, 2, 'KONTROLA JAKOSCI: HORIZON P82x82 - 20| NR_DOS 24/0559', '2024-07-09', '2024-07-09', 1, 0, 1, None, 20),\n",
       " (7, 4, 5, 2, 'KONTROLA JAKOSCI: HORIZON ][ - 130| NR_DOS 24/0559', '2024-07-09', '2024-07-09', 1, 0, 1, None, 50),\n",
       " (8, 4, 5, 2, 'KONTROLA JAKOSCI: GOYA 1 - 20| NR_DOS 24/0583', '2024-07-09', '2024-07-09', 1, 0, 1, None, 20),\n",
       " (9, 4, 5, 2, 'KONTROLA JAKOSCI: GOYA 1,5 - 20| NR_DOS 24/0583', '2024-07-09', '2024-07-09', 1, 0, 1, None, 20),\n",
       " (10, 4, 5, 2, 'KONTROLA JAKOSCI: GOYA [1 - 30| NR_DOS 24/0583', '2024-07-09', '2024-07-09', 1, 0, 1, None, 30),\n",
       " (11, 4, 5, 2, 'KONTROLA JAKOSCI: GOYA [1,5 - 30| NR_DOS 24/0583', '2024-07-09', '2024-07-09', 1, 0, 1, None, 30),\n",
       " (12, 4, 5, 2, 'KONTROLA JAKOSCI: GOYA N - 20| NR_DOS 24/0583', '2024-07-09', '2024-07-09', 1, 0, 1, None, 20),\n",
       " (13, 4, 5, 2, 'KONTROLA JAKOSCI: GOYA [L/[LH - 20| NR_DOS 24/0583', '2024-07-09', '2024-07-09', 1, 0, 1, None, 20),\n",
       " (14, 4, 5, 2, 'KONTROLA JAKOSCI: GOYA P112x100 - 10| NR_DOS 24/05833', '2024-07-09', '2024-07-09', 1, 0, 1, None, 10),\n",
       " (15, 4, 5, 2, 'KONTROLA JAKOSCI: GOYA P112x80 - 10| NR_DOS 24/0583', '2024-07-09', '2024-07-09', 1, 0, 1, None, 10),\n",
       " (16, 4, 5, 2, 'KONTROLA JAKOSCI: OVAL [1o] - 150| NR_DOS 24/0583', '2024-07-09', '2024-07-09', 1, 0, 1, None, 100),\n",
       " (17, 4, 5, 12, 'ODPADY', '2024-07-09', '2024-07-09', 1, 0, 1, None, 60),\n",
       " (18, 4, 5, 1, 'ROZLADUNEK PIANPOL 14_24*', '2024-07-09', '2024-07-09', 1, 0, 1, None, 155),\n",
       " (19, 8, 5, 1, 'ROZLADUNEK PIANPOL 14_24*', '2024-07-09', '2024-07-09', 1, 0, 1, None, 155),\n",
       " (20, 4, 5, 2, 'KONTROLA JAKOSCI: LENOX [1o] - 70| NR_DOS 24/0583', '2024-07-09', '2024-07-09', 1, 0, 1, None, 60),\n",
       " (21, 4, 5, 2, 'KONTROLA JAKOSCI: LENOX [1H] - 120| NR_DOS 24/0583', '2024-07-09', '2024-07-09', 1, 0, 1, None, 80),\n",
       " (22, 4, 5, 9, 'WYCINANIE OWAT: NR PARTII: 25/01 NR KOMPL 2_24| ELIXIR 3 - 30szt', '2024-07-10', '2024-07-10', 1, 1, 1, None, None),\n",
       " (23, 8, 5, 13, 'PAKOWANIE OWAT: NR PARTII: 25/01 NR KOMPL 2_24| ELIXIR 3 - 30szt', '2024-07-10', '2024-07-10', 1, 0, 1, None, None),\n",
       " (24, 4, 5, 9, 'WYCINANIE OWAT: NR PARTII: 25/01 NR KOMPL 2_24| ELIXIR 4 - 40szt', '2024-07-10', '2024-07-10', 1, 1, 1, None, None),\n",
       " (25, 8, 5, 13, 'PAKOWANIE OWAT: NR PARTII: 25/01 NR KOMPL 2_24| ELIXIR 4 - 40szt', '2024-07-10', '2024-07-10', 1, 0, 1, None, None),\n",
       " (26, 4, 5, 9, 'WYCINANIE OWAT: NR PARTII: 25/01 NR KOMPL 2_24| ELIXIR N - 60szt', '2024-07-10', '2024-07-10', 1, 1, 1, None, None),\n",
       " (27, 8, 5, 13, 'PAKOWANIE OWAT: NR PARTII: 25/01 NR KOMPL 2_24| ELIXIR N - 60szt', '2024-07-10', '2024-07-10', 1, 0, 1, None, None),\n",
       " (28, 4, 5, 9, 'WYCINANIE OWAT: NR PARTII: NR PARTII: 25/01 NR KOMPL 2_24| ELIXIR ][ - 150szt', '2024-07-10', '2024-07-10', 1, 0, 1, None, None),\n",
       " (29, 8, 5, 13, 'PAKOWANIE OWAT: NR PARTII: NR PARTII: 25/01 NR KOMPL 2_24| ELIXIR ][ - 150szt', '2024-07-10', '2024-07-10', 1, 0, 1, None, None),\n",
       " (30, 4, 5, 9, 'WYCINANIE OWAT: NR PARTII: 26/02 NR KOMPL 4_24| STONE NW140x150 - 50szt', '2024-07-10', '2024-07-10', 1, 3, 1, None, None),\n",
       " (31, 8, 5, 13, 'PAKOWANIE OWAT: NR PARTII: 26/02 NR KOMPL 4_24| STONE NW140x150 - 50szt', '2024-07-10', '2024-07-10', 1, 0, 1, None, None),\n",
       " (34, 4, 5, 9, 'WYCINANIE OWAT: NR PARTII: 26/02 NR KOMPL 4_24| STONE [LH - 20szt', '2024-07-10', '2024-07-10', 1, 3, 1, None, None),\n",
       " (35, 8, 5, 13, 'PAKOWANIE OWAT: NR PARTII: 26/02 NR KOMPL 4_24| STONE [LH - 20szt', '2024-07-10', '2024-07-10', 1, 0, 1, None, None),\n",
       " (36, 4, 5, 9, 'WYCINANIE OWAT: NR PARTII: 26/02 NR KOMPL 4_24| STONE P106x82 - 20szt', '2024-07-10', '2024-07-10', 1, 3, 1, None, None),\n",
       " (37, 8, 5, 13, 'PAKOWANIE OWAT: NR PARTII: 26/02 NR KOMPL 4_24| STONE P106x82 - 20szt', '2024-07-10', '2024-07-10', 1, 0, 1, None, None),\n",
       " (38, 4, 5, 9, 'WYCINANIE OWAT: NR PARTII: 26/02 NR KOMPL 4_24| STONE ][ - 100szt', '2024-07-10', '2024-07-10', 1, 3, 1, None, None),\n",
       " (39, 8, 5, 13, 'PAKOWANIE OWAT: NR PARTII: 26/02 NR KOMPL 4_24| STONE ][ - 100szt', '2024-07-10', '2024-07-10', 1, 0, 1, None, None),\n",
       " (40, 4, 5, 9, 'WYCINANIE OWAT: NR PARTII: 26/01 NR KOMPL 3_24| STONE 1,5 - 120szt', '2024-07-10', '2024-07-10', 1, 0, 1, None, None),\n",
       " (41, 8, 5, 13, 'PAKOWANIE OWAT: NR PARTII: 26/01 NR KOMPL 3_24| STONE 1,5 - 120szt', '2024-07-10', '2024-07-10', 1, 0, 1, None, None),\n",
       " (42, 4, 5, 9, 'WYCINANIE OWAT: NR PARTII 26/01 NR KOMPL 3_24| STONE 2,5 - 20szt', '2024-07-10', '2024-07-10', 1, 0, 1, None, None),\n",
       " (43, 8, 5, 13, 'PAKOWANIE OWAT: NR PARTI 26/01 NR KOMPL 3_24| STONE 2,5 - 20szt', '2024-07-10', '2024-07-10', 1, 0, 1, None, None),\n",
       " (44, 4, 5, 9, 'WYCINANIE OWAT: NR PARTII: 26/01 NR KOMPL 3_24| STONE 3 - 40szt', '2024-07-10', '2024-07-10', 1, 0, 1, None, None),\n",
       " (45, 8, 5, 13, 'PAKOWANIE OWAT: NR PARTII:26/01 NR KOMPL 3_24| STONE 3 - 40szt', '2024-07-10', '2024-07-10', 1, 0, 1, None, None),\n",
       " (46, 4, 5, 9, 'WYCINANIE OWAT: NR PARTII: 26/01 NR KOMPL 3_24| STONE 4 - 25szt', '2024-07-10', '2024-07-10', 1, 0, 1, None, None),\n",
       " (47, 8, 5, 13, 'PAKOWANIE OWAT: NR PARTII: 26/01 NR KOMPL 3_24| STONE 4 - 25szt', '2024-07-10', '2024-07-10', 1, 0, 1, None, None),\n",
       " (48, 4, 5, 9, 'WYCINANIE OWAT: NR PARTII: 26/01 NR KOMPL 3_24| STONE ON - 40szt', '2024-07-10', '2024-07-10', 1, 0, 1, None, None),\n",
       " (49, 8, 5, 13, 'PAKOWANIE OWAT: NR PARTII: 26/01 NR KOMPL 3_24| STONE ON - 40szt', '2024-07-10', '2024-07-10', 1, 0, 1, None, None),\n",
       " (50, 4, 5, 9, 'WYCINANIE OWAT: NR PARTII: 26/02 NR KOMPL 3_24| WILLOW 1 - 40szt', '2024-07-10', '2024-07-10', 1, 0, 1, None, None),\n",
       " (51, 8, 5, 13, 'PAKOWANIE OWAT: NR PARTII: 26/02 NR KOMPL 3_24| WILLOW 1 - 40szt', '2024-07-10', '2024-07-10', 1, 0, 1, None, None),\n",
       " (52, 4, 5, 9, 'WYCINANIE OWAT: NR PARTII 26/02 NR KOMPL 3_24| WILLOW 1,5 - 40szt', '2024-07-10', '2024-07-10', 1, 0, 1, None, None),\n",
       " (53, 8, 5, 13, 'PAKOWANIE OWAT: NR PARTI 26/02 NR KOMPL 3_24| WILLOW 1,5 - 40szt', '2024-07-10', '2024-07-10', 1, 0, 1, None, None),\n",
       " (54, 4, 5, 9, 'WYCINANIE OWAT: NR PARTII: 26/02 NR KOMPL 3_24| WILLOW [L2Hz - 20szt', '2024-07-10', '2024-07-10', 1, 0, 1, None, None),\n",
       " (55, 8, 5, 13, 'PAKOWANIE OWAT: NR PARTII:26/02 NR KOMPL 3_24| WILLOW [L2Hz - 20szt', '2024-07-10', '2024-07-10', 1, 0, 1, None, None),\n",
       " (56, 4, 5, 9, 'WYCINANIE OWAT: NR PARTII: 26/02 NR KOMPL 3_24| WILLOW [ - 80szt', '2024-07-10', '2024-07-10', 1, 0, 1, None, None),\n",
       " (57, 8, 5, 13, 'PAKOWANIE OWAT: NR PARTII: 26/02 NR KOMPL 3_24| WILLOW [ - 80szt', '2024-07-10', '2024-07-10', 1, 0, 1, None, None),\n",
       " (58, 4, 5, 9, 'WYCINANIE OWAT: NR PARTII: 26/02 NR KOMPL 3_24| WILLOW ] - 60szt', '2024-07-10', '2024-07-10', 1, 0, 1, None, None),\n",
       " (59, 8, 5, 13, 'PAKOWANIE OWAT: NR PARTII: 26/02 NR KOMPL 3_24| WILLOW ] - 60szt', '2024-07-10', '2024-07-10', 1, 0, 1, None, None),\n",
       " (60, 4, 5, 2, 'KONTROLA JAKOSCI: LENOX [1o] - 70| NR_DOS 24/0583', '2024-07-10', '2024-07-11', 1, 0, 1, None, 60),\n",
       " (61, 4, 5, 2, 'KONTROLA JAKOSCI: LENOX [1H] - 120| NR_DOS 24/0583', '2024-07-10', '2024-07-11', 1, 0, 1, None, 80)]"
      ]
     },
     "execution_count": 9,
     "metadata": {},
     "output_type": "execute_result"
    }
   ],
   "source": [
    "mip_session.execute(text(\"SELECT * FROM baza_mip.procesy_przydzielone\")).all()"
   ]
  },
  {
   "cell_type": "code",
   "execution_count": null,
   "metadata": {},
   "outputs": [],
   "source": []
  }
 ],
 "metadata": {
  "kernelspec": {
   "display_name": ".venv",
   "language": "python",
   "name": "python3"
  },
  "language_info": {
   "codemirror_mode": {
    "name": "ipython",
    "version": 3
   },
   "file_extension": ".py",
   "mimetype": "text/x-python",
   "name": "python",
   "nbconvert_exporter": "python",
   "pygments_lexer": "ipython3",
   "version": "3.11.6"
  }
 },
 "nbformat": 4,
 "nbformat_minor": 2
}
