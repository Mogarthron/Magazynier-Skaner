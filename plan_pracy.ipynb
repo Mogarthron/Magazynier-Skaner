{
 "cells": [
  {
   "cell_type": "code",
   "execution_count": 4,
   "metadata": {},
   "outputs": [],
   "source": [
    "from baza_mip import mip_session\n",
    "from baza_mip.models import Procesy_Przydzielone\n",
    "from sqlalchemy import create_engine, text\n",
    "from Plan_Pracy.plan_pracy import kj_paczki\n",
    "\n",
    "import pandas as pd\n",
    "\n",
    "\n",
    "gen_engine = create_engine(\"sqlite:///Z:/450. PLANISTA - ZAOPATRZENIE/GENERATORY.db\", echo=False)\n",
    "\n"
   ]
  },
  {
   "cell_type": "code",
   "execution_count": 25,
   "metadata": {},
   "outputs": [],
   "source": [
    "def dodaj_KJ(zamowione_paczki):\n",
    "    czas_calkowity = 0\n",
    "    for row in zamowione_paczki:\n",
    "        # print(row[0], row[1], row[2], row[3], row[4])\n",
    "        \n",
    "        print(f\"KONTROLA JAKOSCI: {row[1]} - {row[2]}| NR_DOS {row[3]}\", \",\", kj_paczki(row[2])*10)\n",
    "        czas_calkowity += kj_paczki(row[2])*10\n",
    "    \n",
    "    print(\"Całkowity czas KJ:\",czas_calkowity)"
   ]
  },
  {
   "cell_type": "code",
   "execution_count": 30,
   "metadata": {},
   "outputs": [],
   "source": [
    "#dostawy\n",
    "with gen_engine.begin() as conn:\n",
    "    suma_paczek = conn.execute(text(\"select SUM(ILE_ZAMOWIONE) from ZAM_PIANKI where nr_SAMOCHODU == 'PIANPOL 14_24*'\")).fetchall()[0][0]\n",
    "    zamowione_paczki = conn.execute(text(\"select NR_KOMPLETACJI, OPIS, ILE_ZAMOWIONE, ZAM1, ZAM2 from ZAM_PIANKI where nr_SAMOCHODU == 'PIANPOL 14_24*'\")).fetchall()\n",
    "    horizon = conn.execute(text(\"select NR_KOMPLETACJI, OPIS, ILE_ZAMOWIONE, ZAM1, ZAM2 from ZAM_PIANKI where OPIS LIKE 'HOR%' and NR_KOMPLETACJI == '5_24'\")).fetchall()"
   ]
  },
  {
   "cell_type": "code",
   "execution_count": 31,
   "metadata": {},
   "outputs": [
    {
     "name": "stdout",
     "output_type": "stream",
     "text": [
      "KONTROLA JAKOSCI: HORIZON 1z - 150| NR_DOS 24/0559 , 100\n",
      "KONTROLA JAKOSCI: HORIZON 1,5z - 150| NR_DOS 24/0559 , 100\n",
      "KONTROLA JAKOSCI: HORIZON 2,5z - 25| NR_DOS 24/0559 , 30\n",
      "KONTROLA JAKOSCI: HORIZON LHz][ - 30| NR_DOS 24/0559 , 30\n",
      "KONTROLA JAKOSCI: HORIZON L2Hz][ - 50| NR_DOS 24/0559 , 50\n",
      "KONTROLA JAKOSCI: HORIZON P82x82 - 20| NR_DOS 24/0559 , 20\n",
      "KONTROLA JAKOSCI: HORIZON ][ - 130| NR_DOS 24/0559 , 100\n",
      "Całkowity czas KJ: 430\n"
     ]
    }
   ],
   "source": [
    "dodaj_KJ(horizon)"
   ]
  },
  {
   "cell_type": "code",
   "execution_count": 32,
   "metadata": {},
   "outputs": [],
   "source": [
    "##eliza 5\n",
    "##adamr 4\n",
    "##piotrl 8\n",
    "\n",
    "# mip_session.add(Procesy_Przydzielone(4, 5, 2, \"KONTROLA JAKOSCI: HORIZON 1z - 150| NR_DOS 24/0559\", \"2024-07-09\", 100))\n",
    "# mip_session.add(Procesy_Przydzielone(4, 5, 2, \"KONTROLA JAKOSCI: HORIZON 1,5z - 150| NR_DOS 24/0559\", \"2024-07-09\", 100))\n",
    "# mip_session.add(Procesy_Przydzielone(4, 5, 2, \"KONTROLA JAKOSCI: HORIZON 2,5z - 25| NR_DOS 24/0559\", \"2024-07-09\", 30))\n",
    "# mip_session.add(Procesy_Przydzielone(4, 5, 2, \"KONTROLA JAKOSCI: HORIZON LHz][ - 30| NR_DOS 24/0559\", \"2024-07-09\", 30))\n",
    "# mip_session.add(Procesy_Przydzielone(4, 5, 2, \"KONTROLA JAKOSCI: HORIZON L2Hz][ - 50| NR_DOS 24/0559\", \"2024-07-09\", 50))\n",
    "# mip_session.add(Procesy_Przydzielone(4, 5, 2, \"KONTROLA JAKOSCI: HORIZON P82x82 - 20| NR_DOS 24/0559\", \"2024-07-09\", 20))\n",
    "# mip_session.add(Procesy_Przydzielone(4, 5, 2, \"KONTROLA JAKOSCI: HORIZON ][ - 130| NR_DOS 24/0559\", \"2024-07-09\", 50))\n",
    "\n",
    "# mip_session.add(Procesy_Przydzielone(4, 5, 2, \"KONTROLA JAKOSCI: GOYA 1 - 20| NR_DOS 24/0583\", \"2024-07-09\", 20))\n",
    "# mip_session.add(Procesy_Przydzielone(4, 5, 2, \"KONTROLA JAKOSCI: GOYA 1,5 - 20| NR_DOS 24/0583\", \"2024-07-09\", 20))\n",
    "# mip_session.add(Procesy_Przydzielone(4, 5, 2, \"KONTROLA JAKOSCI: GOYA [1 - 30| NR_DOS 24/0583\", \"2024-07-09\", 30))\n",
    "# mip_session.add(Procesy_Przydzielone(4, 5, 2, \"KONTROLA JAKOSCI: GOYA [1,5 - 30| NR_DOS 24/0583\", \"2024-07-09\", 30))\n",
    "# mip_session.add(Procesy_Przydzielone(4, 5, 2, \"KONTROLA JAKOSCI: GOYA N - 20| NR_DOS 24/0583\", \"2024-07-09\", 20))\n",
    "# mip_session.add(Procesy_Przydzielone(4, 5, 2, \"KONTROLA JAKOSCI: GOYA [L/[LH - 20| NR_DOS 24/0583\", \"2024-07-09\", 20))\n",
    "# mip_session.add(Procesy_Przydzielone(4, 5, 2, \"KONTROLA JAKOSCI: GOYA P112x100 - 10| NR_DOS 24/05833\", \"2024-07-09\", 10))\n",
    "# mip_session.add(Procesy_Przydzielone(4, 5, 2, \"KONTROLA JAKOSCI: GOYA P112x80 - 10| NR_DOS 24/0583\", \"2024-07-09\", 10))\n",
    "\n",
    "# mip_session.add(Procesy_Przydzielone(4, 5, 2, \"KONTROLA JAKOSCI: OVAL [1o] - 150| NR_DOS 24/0583\", \"2024-07-09\", 100))\n",
    "\n",
    "# mip_session.add(Procesy_Przydzielone(4, 5, 12, \"ODPADY\", \"2024-07-09\", 60))\n",
    "\n",
    "# mip_session.add(Procesy_Przydzielone(4, 5, 1, \"ROZLADUNEK PIANPOL 14_24*\", \"2024-07-09\", 155))\n",
    "# mip_session.add(Procesy_Przydzielone(8, 5, 1, \"ROZLADUNEK PIANPOL 14_24*\", \"2024-07-09\", 155))\n",
    "\n",
    "# mip_session.add(Procesy_Przydzielone(4, 5, 2, \"KONTROLA JAKOSCI: LENOX [1o] - 70| NR_DOS 24/0583\", \"2024-07-09\", 60))\n",
    "# mip_session.add(Procesy_Przydzielone(4, 5, 2, \"KONTROLA JAKOSCI: LENOX [1H] - 120| NR_DOS 24/0583\", \"2024-07-09\", 80))\n",
    "\n",
    "# mip_session.commit()"
   ]
  },
  {
   "cell_type": "code",
   "execution_count": 34,
   "metadata": {},
   "outputs": [
    {
     "data": {
      "text/plain": [
       "[(1, 4, 5, 2, 'KONTROLA JAKOSCI: HORIZON 1z - 150| NR_DOS 24/0559', '2024-07-09', '2024-07-09', 1, 0, 1, None, 100),\n",
       " (2, 4, 5, 2, 'KONTROLA JAKOSCI: HORIZON 1,5z - 150| NR_DOS 24/0559', '2024-07-09', '2024-07-09', 1, 0, 1, None, 100),\n",
       " (3, 4, 5, 2, 'KONTROLA JAKOSCI: HORIZON 2,5z - 25| NR_DOS 24/0559', '2024-07-09', '2024-07-09', 1, 0, 1, None, 30),\n",
       " (4, 4, 5, 2, 'KONTROLA JAKOSCI: HORIZON LHz][ - 30| NR_DOS 24/0559', '2024-07-09', '2024-07-09', 1, 0, 1, None, 30),\n",
       " (5, 4, 5, 2, 'KONTROLA JAKOSCI: HORIZON L2Hz][ - 50| NR_DOS 24/0559', '2024-07-09', '2024-07-09', 1, 0, 1, None, 50),\n",
       " (6, 4, 5, 2, 'KONTROLA JAKOSCI: HORIZON P82x82 - 20| NR_DOS 24/0559', '2024-07-09', '2024-07-09', 1, 0, 1, None, 20),\n",
       " (7, 4, 5, 2, 'KONTROLA JAKOSCI: HORIZON ][ - 130| NR_DOS 24/0559', '2024-07-09', '2024-07-09', 1, 0, 1, None, 50),\n",
       " (8, 4, 5, 2, 'KONTROLA JAKOSCI: GOYA 1 - 20| NR_DOS 24/0583', '2024-07-09', '2024-07-09', 1, 0, 1, None, 20),\n",
       " (9, 4, 5, 2, 'KONTROLA JAKOSCI: GOYA 1,5 - 20| NR_DOS 24/0583', '2024-07-09', '2024-07-09', 1, 0, 1, None, 20),\n",
       " (10, 4, 5, 2, 'KONTROLA JAKOSCI: GOYA [1 - 30| NR_DOS 24/0583', '2024-07-09', '2024-07-09', 1, 0, 1, None, 30),\n",
       " (11, 4, 5, 2, 'KONTROLA JAKOSCI: GOYA [1,5 - 30| NR_DOS 24/0583', '2024-07-09', '2024-07-09', 1, 0, 1, None, 30),\n",
       " (12, 4, 5, 2, 'KONTROLA JAKOSCI: GOYA N - 20| NR_DOS 24/0583', '2024-07-09', '2024-07-09', 1, 0, 1, None, 20),\n",
       " (13, 4, 5, 2, 'KONTROLA JAKOSCI: GOYA [L/[LH - 20| NR_DOS 24/0583', '2024-07-09', '2024-07-09', 1, 0, 1, None, 20),\n",
       " (14, 4, 5, 2, 'KONTROLA JAKOSCI: GOYA P112x100 - 10| NR_DOS 24/05833', '2024-07-09', '2024-07-09', 1, 0, 1, None, 10),\n",
       " (15, 4, 5, 2, 'KONTROLA JAKOSCI: GOYA P112x80 - 10| NR_DOS 24/0583', '2024-07-09', '2024-07-09', 1, 0, 1, None, 10),\n",
       " (16, 4, 5, 2, 'KONTROLA JAKOSCI: OVAL [1o] - 150| NR_DOS 24/0583', '2024-07-09', '2024-07-09', 1, 0, 1, None, 100),\n",
       " (17, 4, 5, 12, 'ODPADY', '2024-07-09', '2024-07-09', 1, 0, 1, None, 60),\n",
       " (18, 4, 5, 1, 'ROZLADUNEK PIANPOL 14_24*', '2024-07-09', '2024-07-09', 1, 0, 1, None, 155),\n",
       " (19, 8, 5, 1, 'ROZLADUNEK PIANPOL 14_24*', '2024-07-09', '2024-07-09', 1, 0, 1, None, 155),\n",
       " (20, 4, 5, 2, 'KONTROLA JAKOSCI: LENOX [1o] - 70| NR_DOS 24/0583', '2024-07-09', '2024-07-09', 1, 0, 1, None, 60),\n",
       " (21, 4, 5, 2, 'KONTROLA JAKOSCI: LENOX [1H] - 120| NR_DOS 24/0583', '2024-07-09', '2024-07-09', 1, 0, 1, None, 80)]"
      ]
     },
     "execution_count": 34,
     "metadata": {},
     "output_type": "execute_result"
    }
   ],
   "source": [
    "mip_session.execute(text(\"SELECT pro FROM baza_mip.procesy_przydzielone\")).all()"
   ]
  },
  {
   "cell_type": "code",
   "execution_count": null,
   "metadata": {},
   "outputs": [],
   "source": [
    "pd.read_sql"
   ]
  },
  {
   "cell_type": "code",
   "execution_count": null,
   "metadata": {},
   "outputs": [],
   "source": []
  }
 ],
 "metadata": {
  "kernelspec": {
   "display_name": ".venv",
   "language": "python",
   "name": "python3"
  },
  "language_info": {
   "codemirror_mode": {
    "name": "ipython",
    "version": 3
   },
   "file_extension": ".py",
   "mimetype": "text/x-python",
   "name": "python",
   "nbconvert_exporter": "python",
   "pygments_lexer": "ipython3",
   "version": "3.11.6"
  }
 },
 "nbformat": 4,
 "nbformat_minor": 2
}
