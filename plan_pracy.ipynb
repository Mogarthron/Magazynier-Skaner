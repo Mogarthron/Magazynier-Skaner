{
 "cells": [
  {
   "cell_type": "code",
   "execution_count": 1,
   "metadata": {},
   "outputs": [],
   "source": [
    "from baza_mip import mip_session, sessionmaker\n",
    "from baza_mip.models import Procesy_Przydzielone, Procesy\n",
    "from sqlalchemy import create_engine, text\n",
    "from Plan_Pracy.plan_pracy import kj_paczki\n",
    "\n",
    "import pandas as pd\n",
    "\n",
    "\n",
    "gen_engine = create_engine(\"sqlite:///Z:/450. PLANISTA - ZAOPATRZENIE/GENERATORY.db\", echo=False)\n",
    "\n"
   ]
  },
  {
   "cell_type": "code",
   "execution_count": 11,
   "metadata": {},
   "outputs": [],
   "source": [
    "#dostawy\n",
    "with gen_engine.begin() as conn:\n",
    "    suma_paczek = conn.execute(text(\"select SUM(ILE_ZAMOWIONE) from ZAM_PIANKI where nr_SAMOCHODU == 'PIANPOL 18_24'\")).fetchall()[0][0]\n",
    "    zamowione_paczki = conn.execute(text(\"select NR_KOMPLETACJI, OPIS, ILE_ZAMOWIONE, ZAM1, ZAM2, NR_PARTII from ZAM_PIANKI where nr_SAMOCHODU == 'PIANPOL 18_24'\")).fetchall()\n",
    "    owaty = conn.execute(text(\"select NR_KOMPLETACJI, OPIS, ILE_ZAMOWIONE, NR_PARTII from ZAM_PIANKI where nr_SAMOCHODU == 'PIANPOL 17_24' AND MODEL == 'WILLOW'\")).fetchall()\n",
    "    owaty_mb = conn.execute(text(\"select * from OWATY\")).fetchall()"
   ]
  },
  {
   "cell_type": "code",
   "execution_count": 12,
   "metadata": {},
   "outputs": [
    {
     "data": {
      "text/html": [
       "<div>\n",
       "<style scoped>\n",
       "    .dataframe tbody tr th:only-of-type {\n",
       "        vertical-align: middle;\n",
       "    }\n",
       "\n",
       "    .dataframe tbody tr th {\n",
       "        vertical-align: top;\n",
       "    }\n",
       "\n",
       "    .dataframe thead th {\n",
       "        text-align: right;\n",
       "    }\n",
       "</style>\n",
       "<table border=\"1\" class=\"dataframe\">\n",
       "  <thead>\n",
       "    <tr style=\"text-align: right;\">\n",
       "      <th></th>\n",
       "      <th>NAZWA_UKL</th>\n",
       "      <th>OPIS</th>\n",
       "      <th>RODZAJ_CIECIA</th>\n",
       "      <th>ZUZYCIE</th>\n",
       "      <th>TYP_OWATY</th>\n",
       "    </tr>\n",
       "  </thead>\n",
       "  <tbody>\n",
       "    <tr>\n",
       "      <th>0</th>\n",
       "      <td>O3-AMA-25-SP</td>\n",
       "      <td>AMALFI 2,5</td>\n",
       "      <td>K</td>\n",
       "      <td>3.54</td>\n",
       "      <td>O3</td>\n",
       "    </tr>\n",
       "    <tr>\n",
       "      <th>1</th>\n",
       "      <td>O3-AMA-XLA-SP</td>\n",
       "      <td>AMALFI [LA = LA]</td>\n",
       "      <td>K</td>\n",
       "      <td>4.38</td>\n",
       "      <td>O3</td>\n",
       "    </tr>\n",
       "    <tr>\n",
       "      <th>2</th>\n",
       "      <td>O3-AMA-XRS-SP</td>\n",
       "      <td>AMALFI [RS = RS]</td>\n",
       "      <td>K</td>\n",
       "      <td>6.04</td>\n",
       "      <td>O3</td>\n",
       "    </tr>\n",
       "    <tr>\n",
       "      <th>3</th>\n",
       "      <td>O3-AMA-X-SP</td>\n",
       "      <td>AMALFI ][</td>\n",
       "      <td>K</td>\n",
       "      <td>0.96</td>\n",
       "      <td>O3</td>\n",
       "    </tr>\n",
       "    <tr>\n",
       "      <th>4</th>\n",
       "      <td>O3-AMA-15-SP</td>\n",
       "      <td>AMALFI 3,5</td>\n",
       "      <td>K</td>\n",
       "      <td>3.54</td>\n",
       "      <td>O3</td>\n",
       "    </tr>\n",
       "    <tr>\n",
       "      <th>...</th>\n",
       "      <td>...</td>\n",
       "      <td>...</td>\n",
       "      <td>...</td>\n",
       "      <td>...</td>\n",
       "      <td>...</td>\n",
       "    </tr>\n",
       "    <tr>\n",
       "      <th>469</th>\n",
       "      <td>W3</td>\n",
       "      <td>GOYA P112x100</td>\n",
       "      <td>R</td>\n",
       "      <td>2.50</td>\n",
       "      <td>W3</td>\n",
       "    </tr>\n",
       "    <tr>\n",
       "      <th>470</th>\n",
       "      <td>W3</td>\n",
       "      <td>GOYA P112x80</td>\n",
       "      <td>R</td>\n",
       "      <td>2.50</td>\n",
       "      <td>W3</td>\n",
       "    </tr>\n",
       "    <tr>\n",
       "      <th>471</th>\n",
       "      <td>O1-OVA-X1X-SP</td>\n",
       "      <td>OVAL [1o]</td>\n",
       "      <td>K</td>\n",
       "      <td>2.10</td>\n",
       "      <td>O1</td>\n",
       "    </tr>\n",
       "    <tr>\n",
       "      <th>472</th>\n",
       "      <td>O1-LEN-X1X-SP</td>\n",
       "      <td>LENOX [1o]</td>\n",
       "      <td>K</td>\n",
       "      <td>1.90</td>\n",
       "      <td>O1</td>\n",
       "    </tr>\n",
       "    <tr>\n",
       "      <th>473</th>\n",
       "      <td>O1-LEN-X1HX-SP</td>\n",
       "      <td>LENOX [1H]</td>\n",
       "      <td>K</td>\n",
       "      <td>1.66</td>\n",
       "      <td>O1</td>\n",
       "    </tr>\n",
       "  </tbody>\n",
       "</table>\n",
       "<p>474 rows × 5 columns</p>\n",
       "</div>"
      ],
      "text/plain": [
       "          NAZWA_UKL              OPIS RODZAJ_CIECIA  ZUZYCIE TYP_OWATY\n",
       "0      O3-AMA-25-SP        AMALFI 2,5             K     3.54        O3\n",
       "1     O3-AMA-XLA-SP  AMALFI [LA = LA]             K     4.38        O3\n",
       "2     O3-AMA-XRS-SP  AMALFI [RS = RS]             K     6.04        O3\n",
       "3       O3-AMA-X-SP         AMALFI ][             K     0.96        O3\n",
       "4      O3-AMA-15-SP        AMALFI 3,5             K     3.54        O3\n",
       "..              ...               ...           ...      ...       ...\n",
       "469              W3     GOYA P112x100             R     2.50        W3\n",
       "470              W3      GOYA P112x80             R     2.50        W3\n",
       "471   O1-OVA-X1X-SP         OVAL [1o]             K     2.10        O1\n",
       "472   O1-LEN-X1X-SP        LENOX [1o]             K     1.90        O1\n",
       "473  O1-LEN-X1HX-SP        LENOX [1H]             K     1.66        O1\n",
       "\n",
       "[474 rows x 5 columns]"
      ]
     },
     "execution_count": 12,
     "metadata": {},
     "output_type": "execute_result"
    }
   ],
   "source": [
    "mb_owaty = pd.DataFrame(owaty_mb)\n",
    "mb_owaty"
   ]
  },
  {
   "cell_type": "code",
   "execution_count": 35,
   "metadata": {},
   "outputs": [],
   "source": [
    "def dodaj_KJ(zamowione_paczki):\n",
    "    czas_calkowity = 0\n",
    "    kajoty = list()\n",
    "    for row in zamowione_paczki:\n",
    "        # print(row[0], row[1], row[2], row[3], row[4], row[5])\n",
    "        \n",
    "        kajoty.append([f\"KJ PARTII {row[5]}: {row[1]} - {row[2]}| NR_DOS {row[3]}\", kj_paczki(row[2])*10])\n",
    "        \n",
    "        print(f\"KJ PARTII {row[5]}: {row[1]} - {row[2]}| NR_DOS {row[3]},\", kj_paczki(row[2])*10)\n",
    "        czas_calkowity += kj_paczki(row[2])*10\n",
    "    \n",
    "    print(\"Całkowity czas KJ:\",czas_calkowity)\n",
    "    return kajoty"
   ]
  },
  {
   "cell_type": "code",
   "execution_count": 14,
   "metadata": {},
   "outputs": [],
   "source": [
    "def dodaj_OWATY_ROZKROJ(owaty):\n",
    "    \n",
    "    for row in owaty:\n",
    "        # print(row[0], row[1], row[2], row[3], row[4])\n",
    "        czas_ciecia = int(mb_owaty[mb_owaty.OPIS == row[1]].ZUZYCIE.sum() * 1.5)\n",
    "        print(f\"WYCINANIE OWAT NR PARTII {row[3]}: {row[1]} - {row[2]}szt| KOMPLETACJA {row[0]},\", czas_ciecia)\n",
    " "
   ]
  },
  {
   "cell_type": "code",
   "execution_count": 28,
   "metadata": {},
   "outputs": [],
   "source": [
    "def dodaj_pakowanie(zamowione_paczki):\n",
    "    czas_calkowity = 0\n",
    "    pakowanie = list()\n",
    "    for row in zamowione_paczki:\n",
    "        # print(row[0], row[1], row[2], row[3], row[4], row[5])\n",
    "        \n",
    "        print(f\"PAKOWANIE PARTII {row[5]}: {row[1]} - {row[2]}| KOMPLETACJA {row[0]},\", row[2])\n",
    "        czas_calkowity += row[2]\n",
    "        pakowanie.append([f\"PAKOWANIE PARTII {row[5]}: {row[1]} - {row[2]}| KOMPLETACJA {row[0]}\", row[2]])\n",
    "    \n",
    "    print(\"Całkowity czas PAKOWANIA:\",czas_calkowity)\n",
    "\n",
    "    return pakowanie"
   ]
  },
  {
   "cell_type": "code",
   "execution_count": 16,
   "metadata": {},
   "outputs": [
    {
     "data": {
      "text/plain": [
       "620"
      ]
     },
     "execution_count": 16,
     "metadata": {},
     "output_type": "execute_result"
    }
   ],
   "source": [
    "suma_paczek"
   ]
  },
  {
   "cell_type": "code",
   "execution_count": 17,
   "metadata": {},
   "outputs": [
    {
     "data": {
      "text/plain": [
       "[('3_24', 'DIVA 3,5X', 40, '24/0703', '', '28/01'),\n",
       " ('3_24', 'DIVA LA', 40, '24/0703', '', '28/01'),\n",
       " ('2_24', 'LENOX [1o]', 220, '24/0703', '', '28/01'),\n",
       " ('4_24', 'OVAL [1o]', 100, '24/0703', '', '28/01'),\n",
       " ('2_24', 'KELLY [1]', 60, '24/0703', '', '28/01'),\n",
       " ('2_24', 'ONYX 3', 20, '24/0703', '', '28/01'),\n",
       " ('2_24', 'ONYX 4', 20, '24/0703', '', '28/01'),\n",
       " ('2_24', 'ONYX N', 40, '24/0703', '', '28/01'),\n",
       " ('2_24', 'ONYX ][', 80, '24/0703', '', '28/01')]"
      ]
     },
     "execution_count": 17,
     "metadata": {},
     "output_type": "execute_result"
    }
   ],
   "source": [
    "zamowione_paczki"
   ]
  },
  {
   "cell_type": "code",
   "execution_count": 36,
   "metadata": {},
   "outputs": [
    {
     "name": "stdout",
     "output_type": "stream",
     "text": [
      "PAKOWANIE PARTII 28/01: DIVA 3,5X - 40| KOMPLETACJA 3_24, 40\n",
      "PAKOWANIE PARTII 28/01: DIVA LA - 40| KOMPLETACJA 3_24, 40\n",
      "PAKOWANIE PARTII 28/01: LENOX [1o] - 220| KOMPLETACJA 2_24, 220\n",
      "PAKOWANIE PARTII 28/01: OVAL [1o] - 100| KOMPLETACJA 4_24, 100\n",
      "PAKOWANIE PARTII 28/01: KELLY [1] - 60| KOMPLETACJA 2_24, 60\n",
      "PAKOWANIE PARTII 28/01: ONYX 3 - 20| KOMPLETACJA 2_24, 20\n",
      "PAKOWANIE PARTII 28/01: ONYX 4 - 20| KOMPLETACJA 2_24, 20\n",
      "PAKOWANIE PARTII 28/01: ONYX N - 40| KOMPLETACJA 2_24, 40\n",
      "PAKOWANIE PARTII 28/01: ONYX ][ - 80| KOMPLETACJA 2_24, 80\n",
      "Całkowity czas PAKOWANIA: 620\n"
     ]
    }
   ],
   "source": [
    "pakowanie = dodaj_pakowanie(zamowione_paczki)"
   ]
  },
  {
   "cell_type": "code",
   "execution_count": 37,
   "metadata": {},
   "outputs": [
    {
     "name": "stdout",
     "output_type": "stream",
     "text": [
      "KJ PARTII 28/01: DIVA 3,5X - 40| NR_DOS 24/0703, 40\n",
      "KJ PARTII 28/01: DIVA LA - 40| NR_DOS 24/0703, 40\n",
      "KJ PARTII 28/01: LENOX [1o] - 220| NR_DOS 24/0703, 100\n",
      "KJ PARTII 28/01: OVAL [1o] - 100| NR_DOS 24/0703, 70\n",
      "KJ PARTII 28/01: KELLY [1] - 60| NR_DOS 24/0703, 50\n",
      "KJ PARTII 28/01: ONYX 3 - 20| NR_DOS 24/0703, 20\n",
      "KJ PARTII 28/01: ONYX 4 - 20| NR_DOS 24/0703, 20\n",
      "KJ PARTII 28/01: ONYX N - 40| NR_DOS 24/0703, 40\n",
      "KJ PARTII 28/01: ONYX ][ - 80| NR_DOS 24/0703, 60\n",
      "Całkowity czas KJ: 440\n"
     ]
    }
   ],
   "source": [
    "kjoty = dodaj_KJ(zamowione_paczki)"
   ]
  },
  {
   "cell_type": "code",
   "execution_count": 38,
   "metadata": {},
   "outputs": [
    {
     "data": {
      "text/plain": [
       "[['KJ PARTII 28/01: DIVA 3,5X - 40| NR_DOS 24/0703', 40],\n",
       " ['KJ PARTII 28/01: DIVA LA - 40| NR_DOS 24/0703', 40],\n",
       " ['KJ PARTII 28/01: LENOX [1o] - 220| NR_DOS 24/0703', 100],\n",
       " ['KJ PARTII 28/01: OVAL [1o] - 100| NR_DOS 24/0703', 70],\n",
       " ['KJ PARTII 28/01: KELLY [1] - 60| NR_DOS 24/0703', 50],\n",
       " ['KJ PARTII 28/01: ONYX 3 - 20| NR_DOS 24/0703', 20],\n",
       " ['KJ PARTII 28/01: ONYX 4 - 20| NR_DOS 24/0703', 20],\n",
       " ['KJ PARTII 28/01: ONYX N - 40| NR_DOS 24/0703', 40],\n",
       " ['KJ PARTII 28/01: ONYX ][ - 80| NR_DOS 24/0703', 60]]"
      ]
     },
     "execution_count": 38,
     "metadata": {},
     "output_type": "execute_result"
    }
   ],
   "source": [
    "\n",
    "kjoty"
   ]
  },
  {
   "cell_type": "code",
   "execution_count": 39,
   "metadata": {},
   "outputs": [],
   "source": [
    "##eliza 5\n",
    "##adamr 4\n",
    "##piotrl 8\n",
    "\n",
    "\n",
    "mip_session.add(Procesy_Przydzielone(4, 5, 1, \"DOSTAWA PARTII 28/01: NR SAM PIANPOL 18_24\", \"2024-08-07\", 620))\n",
    "\n",
    "for kj in kjoty:\n",
    "    mip_session.add(Procesy_Przydzielone(4, 5, 2, kj[0], \"2024-08-07\", kj[1]))\n",
    "\n",
    "for p in pakowanie:\n",
    "    mip_session.add(Procesy_Przydzielone(4, 5, 3, p[0], \"2024-08-07\", p[1]))\n",
    "\n",
    "# mip_session.add(Procesy_Przydzielone(4, 5, 11, \"DOSTAWA OWAT Z:50, N:20, C:80\", \"2024-08-05\", 150*9))\n",
    "\n",
    "# for p in owaty:\n",
    "\n",
    "#     mip_session.add(Procesy_Przydzielone(4, 5, 9, p[0], \"2024-08-02\", p[1]))\n",
    "\n",
    "\n",
    "mip_session.commit()"
   ]
  },
  {
   "cell_type": "code",
   "execution_count": 41,
   "metadata": {},
   "outputs": [
    {
     "data": {
      "text/plain": [
       "[(4, 5, 1, 'DOSTAWA PARTII 28/01: NR SAM PIANPOL 18_24', '2024-08-06', '2024-08-07', 1, 0, 1, None, 620),\n",
       " (4, 5, 1, 'DOSTAWA PARTII 28/01: NR SAM PIANPOL 18_24', '2024-08-06', '2024-08-07', 1, 0, 1, None, 620),\n",
       " (4, 5, 2, 'KJ PARTII 28/01: DIVA 3,5X - 40| NR_DOS 24/0703', '2024-08-06', '2024-08-07', 1, 0, 1, None, 40),\n",
       " (4, 5, 2, 'KJ PARTII 28/01: DIVA LA - 40| NR_DOS 24/0703', '2024-08-06', '2024-08-07', 1, 0, 1, None, 40),\n",
       " (4, 5, 2, 'KJ PARTII 28/01: LENOX [1o] - 220| NR_DOS 24/0703', '2024-08-06', '2024-08-07', 1, 0, 1, None, 100),\n",
       " (4, 5, 2, 'KJ PARTII 28/01: OVAL [1o] - 100| NR_DOS 24/0703', '2024-08-06', '2024-08-07', 1, 0, 1, None, 70),\n",
       " (4, 5, 2, 'KJ PARTII 28/01: KELLY [1] - 60| NR_DOS 24/0703', '2024-08-06', '2024-08-07', 1, 0, 1, None, 50),\n",
       " (4, 5, 2, 'KJ PARTII 28/01: ONYX 3 - 20| NR_DOS 24/0703', '2024-08-06', '2024-08-07', 1, 0, 1, None, 20),\n",
       " (4, 5, 2, 'KJ PARTII 28/01: ONYX 4 - 20| NR_DOS 24/0703', '2024-08-06', '2024-08-07', 1, 0, 1, None, 20),\n",
       " (4, 5, 2, 'KJ PARTII 28/01: ONYX N - 40| NR_DOS 24/0703', '2024-08-06', '2024-08-07', 1, 0, 1, None, 40),\n",
       " (4, 5, 2, 'KJ PARTII 28/01: ONYX ][ - 80| NR_DOS 24/0703', '2024-08-06', '2024-08-07', 1, 0, 1, None, 60),\n",
       " (4, 5, 3, 'PAKOWANIE PARTII 28/01: DIVA 3,5X - 40| KOMPLETACJA 3_24', '2024-08-06', '2024-08-07', 1, 0, 1, None, 40),\n",
       " (4, 5, 3, 'PAKOWANIE PARTII 28/01: DIVA LA - 40| KOMPLETACJA 3_24', '2024-08-06', '2024-08-07', 1, 0, 1, None, 40),\n",
       " (4, 5, 3, 'PAKOWANIE PARTII 28/01: LENOX [1o] - 220| KOMPLETACJA 2_24', '2024-08-06', '2024-08-07', 1, 0, 1, None, 220),\n",
       " (4, 5, 3, 'PAKOWANIE PARTII 28/01: OVAL [1o] - 100| KOMPLETACJA 4_24', '2024-08-06', '2024-08-07', 1, 0, 1, None, 100),\n",
       " (4, 5, 3, 'PAKOWANIE PARTII 28/01: KELLY [1] - 60| KOMPLETACJA 2_24', '2024-08-06', '2024-08-07', 1, 0, 1, None, 60),\n",
       " (4, 5, 3, 'PAKOWANIE PARTII 28/01: ONYX 3 - 20| KOMPLETACJA 2_24', '2024-08-06', '2024-08-07', 1, 0, 1, None, 20),\n",
       " (4, 5, 3, 'PAKOWANIE PARTII 28/01: ONYX 4 - 20| KOMPLETACJA 2_24', '2024-08-06', '2024-08-07', 1, 0, 1, None, 20),\n",
       " (4, 5, 3, 'PAKOWANIE PARTII 28/01: ONYX N - 40| KOMPLETACJA 2_24', '2024-08-06', '2024-08-07', 1, 0, 1, None, 40),\n",
       " (4, 5, 3, 'PAKOWANIE PARTII 28/01: ONYX ][ - 80| KOMPLETACJA 2_24', '2024-08-06', '2024-08-07', 1, 0, 1, None, 80)]"
      ]
     },
     "execution_count": 41,
     "metadata": {},
     "output_type": "execute_result"
    }
   ],
   "source": [
    "mip_session.execute(text(\"SELECT uid, kid, proces, nazwa_procesu, data_utworzenia, planowany_dzien_rozpoczecia, priorytet, status, aktywna, uwagi_kier, preferowany_czas_wykonania FROM baza_mip.procesy_przydzielone where nazwa_procesu like '%PARTII 28/01%'\")).all()"
   ]
  },
  {
   "cell_type": "code",
   "execution_count": null,
   "metadata": {},
   "outputs": [],
   "source": []
  }
 ],
 "metadata": {
  "kernelspec": {
   "display_name": ".venv",
   "language": "python",
   "name": "python3"
  },
  "language_info": {
   "codemirror_mode": {
    "name": "ipython",
    "version": 3
   },
   "file_extension": ".py",
   "mimetype": "text/x-python",
   "name": "python",
   "nbconvert_exporter": "python",
   "pygments_lexer": "ipython3",
   "version": "3.11.6"
  }
 },
 "nbformat": 4,
 "nbformat_minor": 2
}
