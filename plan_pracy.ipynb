{
 "cells": [
  {
   "cell_type": "code",
   "execution_count": 5,
   "metadata": {},
   "outputs": [],
   "source": [
    "# from baza_mip import mip_session, sessionmaker\n",
    "# from baza_mip.models import Procesy_Przydzielone, Procesy\n",
    "from sqlalchemy import create_engine, text\n",
    "from Plan_Pracy.plan_pracy import kj_paczki\n",
    "\n",
    "import pandas as pd\n",
    "\n",
    "\n",
    "gen_engine = create_engine(\"sqlite:///Z:/450. PLANISTA - ZAOPATRZENIE/GENERATORY.db\", echo=False)\n",
    "\n"
   ]
  },
  {
   "cell_type": "code",
   "execution_count": 9,
   "metadata": {},
   "outputs": [
    {
     "data": {
      "text/plain": [
       "[(429, 2432, '16.133.10000.60', 'REVERSO', '5_24', 'REVERSO 1', 55, 'PV', 'V', 'V', 'P', '24/0794', '24/0792', None, None, None, None, None, None, None, None, None, None, None, 'PIANPOL 23_24,VITA 11_24', '33/03', None, None),\n",
       " (430, 2432, '16.133.15000.60', 'REVERSO', '5_24', 'REVERSO 1,5', 15, 'PV', 'V', 'V', 'P', '24/0794', '24/0792', None, None, None, None, None, None, None, None, None, None, None, 'PIANPOL 23_24,VITA 11_24', '33/03', None, None),\n",
       " (431, 2432, '16.133.20000.60', 'REVERSO', '5_24', 'REVERSO 2', 20, 'PV', 'V', 'V', 'P', '24/0794', '24/0792', None, None, None, None, None, None, None, None, None, None, None, 'PIANPOL 23_24,VITA 11_24', '33/03', None, None),\n",
       " (432, 2432, '16.133.63000.60', 'REVERSO', '5_24', 'REVERSO L', 30, 'PV', 'V', 'V', 'P', '24/0794', '24/0792', None, None, None, None, None, None, None, None, None, None, None, 'PIANPOL 23_24,VITA 11_24', '33/03', None, None),\n",
       " (433, 2432, '16.133.15031.60', 'REVERSO', '5_24', 'REVERSO T1,5', 50, 'PV', 'V', 'V', 'P', '24/0794', '24/0792', None, None, None, None, None, None, None, None, None, None, None, 'PIANPOL 23_24,VITA 11_24', '33/03', None, None),\n",
       " (434, 2432, '16.133.11210.60', 'REVERSO', '5_24', 'REVERSO TE35/103', 10, 'PV', 'V', 'V', 'P', '24/0794', '24/0792', None, None, None, None, None, None, None, None, None, None, None, 'PIANPOL 23_24,VITA 11_24', '33/03', None, None),\n",
       " (435, 2432, '16.133.78100.60', 'REVERSO', '5_24', 'REVERSO 106x82', 10, 'PV', 'V', 'V', 'P', '24/0794', '24/0792', None, None, None, None, None, None, None, None, None, None, None, 'PIANPOL 23_24,VITA 11_24', '33/03', None, None),\n",
       " (436, 2432, '16.133.78200.60', 'REVERSO', '5_24', 'REVERSO 106x106', 20, 'PV', 'V', 'V', 'P', '24/0794', '24/0792', None, None, None, None, None, None, None, None, None, None, None, 'PIANPOL 23_24,VITA 11_24', '33/03', None, None),\n",
       " (437, 2432, '16.133.78300.60', 'REVERSO', '5_24', 'REVERSO 106x120', 10, 'PV', 'V', 'V', 'P', '24/0794', '24/0792', None, None, None, None, None, None, None, None, None, None, None, 'PIANPOL 23_24,VITA 11_24', '33/03', None, None),\n",
       " (438, 2432, '16.133.73900.60', 'REVERSO', '5_24', 'REVERSO Ps82x82', 10, 'PV', 'V', 'V', 'P', '24/0794', '24/0792', None, None, None, None, None, None, None, None, None, None, None, 'PIANPOL 23_24,VITA 11_24', '33/03', None, None),\n",
       " (439, 2432, '16.133.78500.60', 'REVERSO', '5_24', 'REVERSO Ps82x102', 10, 'PV', 'V', 'V', 'P', '24/0794', '24/0792', None, None, None, None, None, None, None, None, None, None, None, 'PIANPOL 23_24,VITA 11_24', '33/03', None, None),\n",
       " (440, 2432, '16.133.78600.60', 'REVERSO', '5_24', 'REVERSO Ps82x122', 10, 'PV', 'V', 'V', 'P', '24/0794', '24/0792', None, None, None, None, None, None, None, None, None, None, None, 'PIANPOL 23_24,VITA 11_24', '33/03', None, None),\n",
       " (441, 2432, '16.133.00000.60', 'REVERSO', '5_24', 'REVERSO ][', 30, 'PV', 'V', 'V', 'P', '24/0794', '24/0792', None, None, None, None, None, None, None, None, None, None, None, 'PIANPOL 23_24,VITA 11_24', '33/03', None, None),\n",
       " (442, 2432, '16.135.70400.60', 'UNO', '1_24', 'UNO P48x48', 40, 'V', 'V', 'V', 'V', '', '24/0792', None, None, None, None, None, None, None, None, None, None, None, 'VITA 11_24', '33/03', None, None),\n",
       " (443, 2432, '16.135.73200.60', 'UNO', '1_24', 'UNO P63x63', 40, 'V', 'V', 'V', 'V', '', '24/0792', None, None, None, None, None, None, None, None, None, None, None, 'VITA 11_24', '33/03', None, None),\n",
       " (444, 2432, '16.040.10003.60', 'OVAL', '5_24', 'OVAL [1o]', 100, 'V', 'V', 'V', 'V', '', '24/0792', None, None, None, None, None, None, None, None, None, None, None, 'VITA 11_24', '33/03', None, None),\n",
       " (445, 2432, '16.121.10103.62', 'LENOX', '3_24', 'LENOX [1o]', 70, 'V', 'V', 'V', 'V', '', '24/0792', None, None, None, None, None, None, None, None, None, None, None, 'VITA 11_24', '33/03', None, None),\n",
       " (446, 2432, '16.121.14103.62', 'LENOX', '3_24', 'LENOX [1H]', 40, 'V', 'V', 'V', 'V', '', '24/0792', None, None, None, None, None, None, None, None, None, None, None, 'VITA 11_24', '33/03', None, None)]"
      ]
     },
     "execution_count": 9,
     "metadata": {},
     "output_type": "execute_result"
    }
   ],
   "source": [
    "with gen_engine.begin() as conn:\n",
    "    stmt = conn.execute(text(\"SELECT * FROM ZAM_PIANKI WHERE nr_partii = '33/03'\"))\n",
    "\n",
    "stmt.all()"
   ]
  },
  {
   "cell_type": "code",
   "execution_count": 4,
   "metadata": {},
   "outputs": [],
   "source": [
    "def dodaj_KJ(zamowione_paczki):\n",
    "    czas_calkowity = 0\n",
    "    kajoty = list()\n",
    "    for row in zamowione_paczki:\n",
    "        # print(row[0], row[1], row[2], row[3], row[4], row[5])\n",
    "        \n",
    "        kajoty.append([f\"KJ PARTII {row[5]}: {row[1]} - {row[2]}| NR_DOS {row[3]}\", kj_paczki(row[2])*10])\n",
    "        \n",
    "        print(f\"KJ PARTII {row[5]}: {row[1]} - {row[2]}| NR_DOS {row[3]},\", kj_paczki(row[2])*10)\n",
    "        czas_calkowity += kj_paczki(row[2])*10\n",
    "    \n",
    "    print(\"Całkowity czas KJ:\",czas_calkowity)\n",
    "    return kajoty\n",
    "\n",
    "def dodaj_OWATY_ROZKROJ(owaty):\n",
    "\n",
    "    with gen_engine.begin() as conn:\n",
    "        owaty_mb = conn.execute(text(\"select * from OWATY\")).fetchall()\n",
    "    mb_owaty = pd.DataFrame(owaty_mb)\n",
    "\n",
    "    czas_calkowity = 0\n",
    "    rozkroj_owat = list()\n",
    "    for row in owaty:\n",
    "        # print(row[0], row[1], row[2], row[3], row[4])\n",
    "        czas_ciecia = int(mb_owaty[mb_owaty.OPIS == row[1]].ZUZYCIE.sum() * 1.5)\n",
    "        czas_calkowity += czas_ciecia\n",
    "        rozkroj_owat.append([f\"WYCINANIE OWAT NR PARTII {row[5]}: {row[1]} - {row[2]}szt| KOMPLETACJA {row[0]}\", czas_ciecia])\n",
    "        print(f\"WYCINANIE OWAT NR PARTII {row[5]}: {row[1]} - {row[2]}szt| KOMPLETACJA {row[0]}\", czas_ciecia)\n",
    "    \n",
    "    print(\"Całkowity czas ciecia:\",czas_calkowity)\n",
    "    return rozkroj_owat\n",
    "\n",
    "def dodaj_pakowanie(zamowione_paczki):\n",
    "    czas_calkowity = 0\n",
    "    pakowanie = list()\n",
    "    for row in zamowione_paczki:\n",
    "        # print(row[0], row[1], row[2], row[3], row[4], row[5])\n",
    "        \n",
    "        print(f\"PAKOWANIE PARTII {row[5]}: {row[1]} - {row[2]}| KOMPLETACJA {row[0]},\", row[2])\n",
    "        czas_calkowity += row[2]\n",
    "        pakowanie.append([f\"PAKOWANIE PARTII {row[5]}: {row[1]} - {row[2]}| KOMPLETACJA {row[0]}\", row[2]])\n",
    "    \n",
    "    print(\"Całkowity czas PAKOWANIA:\",czas_calkowity)\n",
    "\n",
    "    return pakowanie\n",
    "\n",
    "def wycinanie_memory(memory, model):\n",
    "    czas_calkowity = 0\n",
    "  \n",
    "    for row in memory:\n",
    "        # print(row[0], row[1], row[2], row[3], row[4], row[5])        \n",
    "        print(f\"WYCINANIE I SKOSOWANIE MEMORY PARTII {row[5]}: {row[1]} - {row[2]}| KOMPLETACJA {row[0]},\", row[2])\n",
    "        czas_calkowity += row[2]\n",
    "        \n",
    "    \n",
    "    print(\"Całkowity czas WYCINANIA:\",czas_calkowity*2)\n",
    "\n",
    "    return [[f\"WYCINANIE I SKOSOWANIE MEMORY PARTII {row[5]}: {model} KOMPLETACJA {row[0]}\", czas_calkowity*2 ]]"
   ]
  },
  {
   "cell_type": "code",
   "execution_count": 64,
   "metadata": {},
   "outputs": [],
   "source": [
    "#dostawy\n",
    "\n",
    "nr_samochodu = \"PIANPOL 26_24\"\n",
    "\n",
    "with gen_engine.begin() as conn:\n",
    "    suma_paczek = conn.execute(text(f\"select SUM(ILE_ZAMOWIONE) from ZAM_PIANKI where nr_SAMOCHODU LIKE '%{nr_samochodu}%'\")).fetchall()[0][0]\n",
    "    zamowione_paczki = conn.execute(text(f\"select NR_KOMPLETACJI, OPIS, ILE_ZAMOWIONE, ZAM1, ZAM2, NR_PARTII from ZAM_PIANKI where nr_SAMOCHODU LIKE '%{nr_samochodu}%'\")).fetchall()\n",
    "    owaty = conn.execute(text(f\"select NR_KOMPLETACJI, OPIS, ILE_ZAMOWIONE, ZAM1, ZAM2, NR_PARTII from ZAM_PIANKI where nr_SAMOCHODU LIKE '%{nr_samochodu}%'\")).fetchall()\n",
    "    memory = conn.execute(text(f\"select NR_KOMPLETACJI, OPIS, ILE_ZAMOWIONE, ZAM1, ZAM2, NR_PARTII from ZAM_PIANKI where nr_SAMOCHODU LIKE '%{nr_samochodu}%' AND LENIWA == 'O'\")).fetchall()\n",
    "    \n"
   ]
  },
  {
   "cell_type": "code",
   "execution_count": 65,
   "metadata": {},
   "outputs": [
    {
     "data": {
      "text/plain": [
       "[]"
      ]
     },
     "execution_count": 65,
     "metadata": {},
     "output_type": "execute_result"
    }
   ],
   "source": [
    "memory"
   ]
  },
  {
   "cell_type": "code",
   "execution_count": 66,
   "metadata": {},
   "outputs": [
    {
     "data": {
      "text/plain": [
       "320"
      ]
     },
     "execution_count": 66,
     "metadata": {},
     "output_type": "execute_result"
    }
   ],
   "source": [
    "suma_paczek"
   ]
  },
  {
   "cell_type": "code",
   "execution_count": 67,
   "metadata": {},
   "outputs": [
    {
     "data": {
      "text/plain": [
       "[('2_23', 'DUO 2,5', 5, '24/0824', '', '34/01'),\n",
       " ('2_23', 'DUO LH][', 10, '24/0824', '', '34/01'),\n",
       " ('2_23', 'DUO ][', 40, '24/0824', '', '34/01'),\n",
       " ('2_23', 'DUO P82x82', 5, '24/0824', '', '34/01'),\n",
       " ('2_23', 'DUO P62x62', 5, '24/0824', '', '34/01'),\n",
       " ('2_23', 'DUO P102x82', 5, '24/0824', '', '34/01'),\n",
       " ('3_24', 'ELIXIR 3,5', 40, '24/0824', '', '34/01'),\n",
       " ('3_24', 'ELIXIR 4', 40, '24/0824', '', '34/01'),\n",
       " ('3_24', 'ELIXIR P120x98', 10, '24/0824', '', '34/01'),\n",
       " ('3_24', 'ELIXIR P100x98', 10, '24/0824', '', '34/01'),\n",
       " ('3_24', 'HUDSON [L', 10, '24/0824', '', '34/01'),\n",
       " ('4_24', 'MAXWELL 4', 10, '24/0824', '', '34/01'),\n",
       " ('4_24', 'MAXWELL ][', 50, '24/0824', '', '34/01'),\n",
       " ('3_24', 'ONYX 2,5', 10, '24/0824', '', '34/01'),\n",
       " ('3_24', 'ONYX 3,5', 30, '24/0824', '', '34/01'),\n",
       " ('4_24', 'SAMOA 1z', 30, '24/0824', '', '34/01'),\n",
       " ('4_24', 'SAMOA P100x100', 5, '24/0824', '', '34/01'),\n",
       " ('5_24', 'DIVA N', 5, '24/0824', '', '34/01')]"
      ]
     },
     "execution_count": 67,
     "metadata": {},
     "output_type": "execute_result"
    }
   ],
   "source": [
    "zamowione_paczki"
   ]
  },
  {
   "cell_type": "code",
   "execution_count": 68,
   "metadata": {},
   "outputs": [
    {
     "name": "stdout",
     "output_type": "stream",
     "text": [
      "PAKOWANIE PARTII 34/01: DUO 2,5 - 5| KOMPLETACJA 2_23, 5\n",
      "PAKOWANIE PARTII 34/01: DUO LH][ - 10| KOMPLETACJA 2_23, 10\n",
      "PAKOWANIE PARTII 34/01: DUO ][ - 40| KOMPLETACJA 2_23, 40\n",
      "PAKOWANIE PARTII 34/01: DUO P82x82 - 5| KOMPLETACJA 2_23, 5\n",
      "PAKOWANIE PARTII 34/01: DUO P62x62 - 5| KOMPLETACJA 2_23, 5\n",
      "PAKOWANIE PARTII 34/01: DUO P102x82 - 5| KOMPLETACJA 2_23, 5\n",
      "PAKOWANIE PARTII 34/01: ELIXIR 3,5 - 40| KOMPLETACJA 3_24, 40\n",
      "PAKOWANIE PARTII 34/01: ELIXIR 4 - 40| KOMPLETACJA 3_24, 40\n",
      "PAKOWANIE PARTII 34/01: ELIXIR P120x98 - 10| KOMPLETACJA 3_24, 10\n",
      "PAKOWANIE PARTII 34/01: ELIXIR P100x98 - 10| KOMPLETACJA 3_24, 10\n",
      "PAKOWANIE PARTII 34/01: HUDSON [L - 10| KOMPLETACJA 3_24, 10\n",
      "PAKOWANIE PARTII 34/01: MAXWELL 4 - 10| KOMPLETACJA 4_24, 10\n",
      "PAKOWANIE PARTII 34/01: MAXWELL ][ - 50| KOMPLETACJA 4_24, 50\n",
      "PAKOWANIE PARTII 34/01: ONYX 2,5 - 10| KOMPLETACJA 3_24, 10\n",
      "PAKOWANIE PARTII 34/01: ONYX 3,5 - 30| KOMPLETACJA 3_24, 30\n",
      "PAKOWANIE PARTII 34/01: SAMOA 1z - 30| KOMPLETACJA 4_24, 30\n",
      "PAKOWANIE PARTII 34/01: SAMOA P100x100 - 5| KOMPLETACJA 4_24, 5\n",
      "PAKOWANIE PARTII 34/01: DIVA N - 5| KOMPLETACJA 5_24, 5\n",
      "Całkowity czas PAKOWANIA: 320\n"
     ]
    }
   ],
   "source": [
    "pakowanie = dodaj_pakowanie(zamowione_paczki)"
   ]
  },
  {
   "cell_type": "code",
   "execution_count": 69,
   "metadata": {},
   "outputs": [
    {
     "name": "stdout",
     "output_type": "stream",
     "text": [
      "KJ PARTII 34/01: DUO 2,5 - 5| NR_DOS 24/0824, 10\n",
      "KJ PARTII 34/01: DUO LH][ - 10| NR_DOS 24/0824, 10\n",
      "KJ PARTII 34/01: DUO ][ - 40| NR_DOS 24/0824, 40\n",
      "KJ PARTII 34/01: DUO P82x82 - 5| NR_DOS 24/0824, 10\n",
      "KJ PARTII 34/01: DUO P62x62 - 5| NR_DOS 24/0824, 10\n",
      "KJ PARTII 34/01: DUO P102x82 - 5| NR_DOS 24/0824, 10\n",
      "KJ PARTII 34/01: ELIXIR 3,5 - 40| NR_DOS 24/0824, 40\n",
      "KJ PARTII 34/01: ELIXIR 4 - 40| NR_DOS 24/0824, 40\n",
      "KJ PARTII 34/01: ELIXIR P120x98 - 10| NR_DOS 24/0824, 10\n",
      "KJ PARTII 34/01: ELIXIR P100x98 - 10| NR_DOS 24/0824, 10\n",
      "KJ PARTII 34/01: HUDSON [L - 10| NR_DOS 24/0824, 10\n",
      "KJ PARTII 34/01: MAXWELL 4 - 10| NR_DOS 24/0824, 10\n",
      "KJ PARTII 34/01: MAXWELL ][ - 50| NR_DOS 24/0824, 50\n",
      "KJ PARTII 34/01: ONYX 2,5 - 10| NR_DOS 24/0824, 10\n",
      "KJ PARTII 34/01: ONYX 3,5 - 30| NR_DOS 24/0824, 30\n",
      "KJ PARTII 34/01: SAMOA 1z - 30| NR_DOS 24/0824, 30\n",
      "KJ PARTII 34/01: SAMOA P100x100 - 5| NR_DOS 24/0824, 10\n",
      "KJ PARTII 34/01: DIVA N - 5| NR_DOS 24/0824, 10\n",
      "Całkowity czas KJ: 350\n"
     ]
    }
   ],
   "source": [
    "kjoty = dodaj_KJ(zamowione_paczki)"
   ]
  },
  {
   "cell_type": "code",
   "execution_count": 70,
   "metadata": {},
   "outputs": [
    {
     "name": "stdout",
     "output_type": "stream",
     "text": [
      "Całkowity czas WYCINANIA: 0\n"
     ]
    },
    {
     "ename": "UnboundLocalError",
     "evalue": "cannot access local variable 'row' where it is not associated with a value",
     "output_type": "error",
     "traceback": [
      "\u001b[1;31m---------------------------------------------------------------------------\u001b[0m",
      "\u001b[1;31mUnboundLocalError\u001b[0m                         Traceback (most recent call last)",
      "Cell \u001b[1;32mIn[70], line 1\u001b[0m\n\u001b[1;32m----> 1\u001b[0m wycinanie \u001b[38;5;241m=\u001b[39m \u001b[43mwycinanie_memory\u001b[49m\u001b[43m(\u001b[49m\u001b[43mmemory\u001b[49m\u001b[43m,\u001b[49m\u001b[43m \u001b[49m\u001b[38;5;124;43m\"\u001b[39;49m\u001b[38;5;124;43mAVANT\u001b[39;49m\u001b[38;5;124;43m\"\u001b[39;49m\u001b[43m)\u001b[49m\n\u001b[0;32m      2\u001b[0m wycinanie\n",
      "Cell \u001b[1;32mIn[4], line 58\u001b[0m, in \u001b[0;36mwycinanie_memory\u001b[1;34m(memory, model)\u001b[0m\n\u001b[0;32m     53\u001b[0m     czas_calkowity \u001b[38;5;241m+\u001b[39m\u001b[38;5;241m=\u001b[39m row[\u001b[38;5;241m2\u001b[39m]\n\u001b[0;32m     56\u001b[0m \u001b[38;5;28mprint\u001b[39m(\u001b[38;5;124m\"\u001b[39m\u001b[38;5;124mCałkowity czas WYCINANIA:\u001b[39m\u001b[38;5;124m\"\u001b[39m,czas_calkowity\u001b[38;5;241m*\u001b[39m\u001b[38;5;241m2\u001b[39m)\n\u001b[1;32m---> 58\u001b[0m \u001b[38;5;28;01mreturn\u001b[39;00m [[\u001b[38;5;124mf\u001b[39m\u001b[38;5;124m\"\u001b[39m\u001b[38;5;124mWYCINANIE I SKOSOWANIE MEMORY PARTII \u001b[39m\u001b[38;5;132;01m{\u001b[39;00mrow[\u001b[38;5;241m5\u001b[39m]\u001b[38;5;132;01m}\u001b[39;00m\u001b[38;5;124m: \u001b[39m\u001b[38;5;132;01m{\u001b[39;00mmodel\u001b[38;5;132;01m}\u001b[39;00m\u001b[38;5;124m KOMPLETACJA \u001b[39m\u001b[38;5;132;01m{\u001b[39;00mrow[\u001b[38;5;241m0\u001b[39m]\u001b[38;5;132;01m}\u001b[39;00m\u001b[38;5;124m\"\u001b[39m, czas_calkowity\u001b[38;5;241m*\u001b[39m\u001b[38;5;241m2\u001b[39m ]]\n",
      "\u001b[1;31mUnboundLocalError\u001b[0m: cannot access local variable 'row' where it is not associated with a value"
     ]
    }
   ],
   "source": [
    "wycinanie = wycinanie_memory(memory, \"AVANT\")\n",
    "wycinanie"
   ]
  },
  {
   "cell_type": "code",
   "execution_count": 71,
   "metadata": {},
   "outputs": [
    {
     "name": "stdout",
     "output_type": "stream",
     "text": [
      "WYCINANIE OWAT NR PARTII 34/01: DUO 2,5 - 5szt| KOMPLETACJA 2_23 7\n",
      "WYCINANIE OWAT NR PARTII 34/01: DUO LH][ - 10szt| KOMPLETACJA 2_23 12\n",
      "WYCINANIE OWAT NR PARTII 34/01: DUO ][ - 40szt| KOMPLETACJA 2_23 1\n",
      "WYCINANIE OWAT NR PARTII 34/01: DUO P82x82 - 5szt| KOMPLETACJA 2_23 2\n",
      "WYCINANIE OWAT NR PARTII 34/01: DUO P62x62 - 5szt| KOMPLETACJA 2_23 2\n",
      "WYCINANIE OWAT NR PARTII 34/01: DUO P102x82 - 5szt| KOMPLETACJA 2_23 3\n",
      "WYCINANIE OWAT NR PARTII 34/01: ELIXIR 3,5 - 40szt| KOMPLETACJA 3_24 6\n",
      "WYCINANIE OWAT NR PARTII 34/01: ELIXIR 4 - 40szt| KOMPLETACJA 3_24 7\n",
      "WYCINANIE OWAT NR PARTII 34/01: ELIXIR P120x98 - 10szt| KOMPLETACJA 3_24 2\n",
      "WYCINANIE OWAT NR PARTII 34/01: ELIXIR P100x98 - 10szt| KOMPLETACJA 3_24 2\n",
      "WYCINANIE OWAT NR PARTII 34/01: HUDSON [L - 10szt| KOMPLETACJA 3_24 9\n",
      "WYCINANIE OWAT NR PARTII 34/01: MAXWELL 4 - 10szt| KOMPLETACJA 4_24 8\n",
      "WYCINANIE OWAT NR PARTII 34/01: MAXWELL ][ - 50szt| KOMPLETACJA 4_24 1\n",
      "WYCINANIE OWAT NR PARTII 34/01: ONYX 2,5 - 10szt| KOMPLETACJA 3_24 7\n",
      "WYCINANIE OWAT NR PARTII 34/01: ONYX 3,5 - 30szt| KOMPLETACJA 3_24 7\n",
      "WYCINANIE OWAT NR PARTII 34/01: SAMOA 1z - 30szt| KOMPLETACJA 4_24 3\n",
      "WYCINANIE OWAT NR PARTII 34/01: SAMOA P100x100 - 5szt| KOMPLETACJA 4_24 7\n",
      "WYCINANIE OWAT NR PARTII 34/01: DIVA N - 5szt| KOMPLETACJA 5_24 4\n",
      "Całkowity czas ciecia: 90\n"
     ]
    }
   ],
   "source": [
    "owaty = dodaj_OWATY_ROZKROJ(zamowione_paczki)"
   ]
  },
  {
   "cell_type": "code",
   "execution_count": 72,
   "metadata": {},
   "outputs": [
    {
     "data": {
      "text/plain": [
       "'34/01'"
      ]
     },
     "execution_count": 72,
     "metadata": {},
     "output_type": "execute_result"
    }
   ],
   "source": [
    "nr_partii = zamowione_paczki[0][-1]\n",
    "nr_partii"
   ]
  },
  {
   "cell_type": "code",
   "execution_count": 73,
   "metadata": {},
   "outputs": [],
   "source": [
    "##eliza 5\n",
    "##adamr 4\n",
    "##piotrl 8\n",
    "planowany_dzien_rozpoczecia = \"2024-09-20\"\n",
    "\n",
    "\n",
    "mip_session.add(Procesy_Przydzielone(4, 5, 1, f\"DOSTAWA PARTII {nr_partii}: NR SAM {nr_samochodu}\", planowany_dzien_rozpoczecia, suma_paczek))\n",
    "# mip_session.add(Procesy_Przydzielone(4, 5, 1, f\"DOSTAWA PARTII 33/03: NR SAM VITA 11_24\", planowany_dzien_rozpoczecia, 570))\n",
    "\n",
    "for kj in kjoty:\n",
    "    mip_session.add(Procesy_Przydzielone(4, 5, 2, kj[0], planowany_dzien_rozpoczecia, kj[1]))\n",
    "\n",
    "for p in pakowanie:\n",
    "    mip_session.add(Procesy_Przydzielone(4, 5, 3, p[0], planowany_dzien_rozpoczecia, p[1]))\n",
    "\n",
    "# mip_session.add(Procesy_Przydzielone(4, 5, 11, \"DOSTAWA OWAT Z:50, N:20, C:80\", \"2024-08-05\", 150*9))\n",
    "\n",
    "# for w in wycinanie:\n",
    "#     mip_session.add(Procesy_Przydzielone(4, 5, 10, w[0], planowany_dzien_rozpoczecia, w[1]))\n",
    "\n",
    "for o in owaty:\n",
    "    mip_session.add(Procesy_Przydzielone(4, 5, 9, o[0], planowany_dzien_rozpoczecia, o[1]))\n",
    "\n",
    "\n",
    "# mip_session.commit()"
   ]
  },
  {
   "cell_type": "code",
   "execution_count": null,
   "metadata": {},
   "outputs": [],
   "source": [
    "prtia = '34/01'\n",
    "mip_session.execute(text(f\"\"\"SELECT uid, kid, proces, nazwa_procesu, data_utworzenia, planowany_dzien_rozpoczecia, priorytet, status, aktywna, uwagi_kier, preferowany_czas_wykonania \n",
    "                         FROM baza_mip.procesy_przydzielone where data_utworzenia = '2024-08-22'\"\"\")).all()"
   ]
  }
 ],
 "metadata": {
  "kernelspec": {
   "display_name": ".venv",
   "language": "python",
   "name": "python3"
  },
  "language_info": {
   "codemirror_mode": {
    "name": "ipython",
    "version": 3
   },
   "file_extension": ".py",
   "mimetype": "text/x-python",
   "name": "python",
   "nbconvert_exporter": "python",
   "pygments_lexer": "ipython3",
   "version": "3.11.6"
  }
 },
 "nbformat": 4,
 "nbformat_minor": 2
}
